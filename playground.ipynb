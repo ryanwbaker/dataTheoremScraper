{
 "cells": [
  {
   "cell_type": "markdown",
   "metadata": {},
   "source": [
    "Goal:\n",
    "Build a functional web application using Python, and any framework/library you are comfortable with.\n",
    "The web application's functionality is to retrieve information about a specific Android application available on the Aptoide mobile application marketplace (https://en.aptoide.com/) and display it to the user.\n",
    "We discourage the use of any public or private APIs for retrieving the data, as we are interested in seeing how web scraping is implemented in your project.\n",
    "\n",
    "Sample user flow:\n",
    "The user flow should be the following:\n",
    "1. I access the home page where I can paste an App's Aptoide URL into a text box and submit it. For example, the URL to the Lords Mobile App on the Aptoide is https://lords-mobile.en.aptoide.com/\n",
    "2. After submitting the URL, the website returns a page displaying the following information about the App:\n",
    "* App's name\n",
    "* App's version\n",
    "* Number of downloads\n",
    "* Release date\n",
    "* App's description\n",
    "\n",
    "Things we care about:\n",
    "Overall, the purpose of this exercise for us is to see your \"production-level\" code. Rather than a \"personal\" or \"learning\" project that you would work on on your own, think of this exercise as a project:\n",
    "* You would deploy to production\n",
    "* That might be used by customers\n",
    "* That other people on the team would have to maintain, extend, etc.\n",
    "\n",
    "Additional requirements:\n",
    "* Please use Falcon to write your API endpoint(s). Other web frameworks such as Django, Django REST or Flask are not allowed for this exercise.\n",
    "* Please write type annotations in your Python code. They are optional, but we require them in all of our code because of how useful they are. In the context of this exercise, this means that once you’ve completed it, the Python type checker tool called mypy should return 0 errors when ran against your code base.\n",
    "* Please provide unit tests alongside your code. \n",
    "\n",
    "Things we do not care about:\n",
    "* Having a pretty user interface.\n",
    "* Having complex or impressive frontend code (HTML, JavaScript). We are more interested in your Python code (as you are interviewing for a backend position) and it is what you should spend most of your time on.\n",
    "* Getting your code back very quickly after we sent the instructions; this is not a speed exercise and we don't take it into account when reviewing your code.\n",
    "* Actually deploying the application (to AWS, GCP, Heroku, etc.) is not in scope; we are only looking for the application code.\n",
    "\n",
    "Timeline:\n",
    "Once you have been given access to these instructions, we would like to get your source code back within a week, ideally. If you lack time (due to work or other life events) and are not able to deliver within a week, it is totally fine but please contact the person who sent you the instructions to discuss a new timeline.\n",
    "\n",
    "Good luck and thanks!\n"
   ]
  },
  {
   "cell_type": "code",
   "execution_count": 89,
   "metadata": {},
   "outputs": [],
   "source": [
    "import requests\n",
    "url = \"https://fortnite.en.aptoide.com/app\"\n",
    "response = requests.get(url)\n",
    "text = response.text"
   ]
  },
  {
   "cell_type": "code",
   "execution_count": 90,
   "metadata": {},
   "outputs": [],
   "source": [
    "from bs4 import BeautifulSoup\n",
    "import re\n",
    "soup = BeautifulSoup(text,features=\"html.parser\")\n"
   ]
  },
  {
   "cell_type": "markdown",
   "metadata": {},
   "source": [
    "App Name"
   ]
  },
  {
   "cell_type": "code",
   "execution_count": 91,
   "metadata": {},
   "outputs": [
    {
     "name": "stdout",
     "output_type": "stream",
     "text": [
      "Fortnite\n"
     ]
    }
   ],
   "source": [
    "regex = re.compile(\"app-informations__Title\")\n",
    "print(soup.find(\"h1\", {\"class\": regex}).get_text())"
   ]
  },
  {
   "cell_type": "markdown",
   "metadata": {},
   "source": [
    "App Version"
   ]
  },
  {
   "cell_type": "code",
   "execution_count": 92,
   "metadata": {},
   "outputs": [
    {
     "name": "stdout",
     "output_type": "stream",
     "text": [
      "28.30.0-31511038-Android\n"
     ]
    }
   ],
   "source": [
    "regex = re.compile(\"VersionsRatingRow\")\n",
    "print(soup.find(\"div\", {\"class\": regex}).span.get_text())"
   ]
  },
  {
   "cell_type": "markdown",
   "metadata": {},
   "source": [
    "Downloads"
   ]
  },
  {
   "cell_type": "code",
   "execution_count": 93,
   "metadata": {},
   "outputs": [
    {
     "name": "stdout",
     "output_type": "stream",
     "text": [
      "9M+\n"
     ]
    }
   ],
   "source": [
    "regex = re.compile(\"DetailsMainSpan\")\n",
    "print(soup.find(\"span\", {\"class\": regex}).get_text())"
   ]
  },
  {
   "cell_type": "markdown",
   "metadata": {},
   "source": [
    "Release Date"
   ]
  },
  {
   "cell_type": "code",
   "execution_count": 94,
   "metadata": {},
   "outputs": [
    {
     "name": "stdout",
     "output_type": "stream",
     "text": [
      "22-02-2024\n"
     ]
    }
   ],
   "source": [
    "regex = re.compile(\"VersionsRatingRow\")\n",
    "print(soup.find(\"div\", {\"class\": regex}).find_next('span').find_next('span').get_text()[1:-1])"
   ]
  },
  {
   "cell_type": "markdown",
   "metadata": {},
   "source": [
    "Description"
   ]
  },
  {
   "cell_type": "code",
   "execution_count": 95,
   "metadata": {},
   "outputs": [
    {
     "name": "stdout",
     "output_type": "stream",
     "text": [
      "Fortnite is a battle royale game for Android on which up to 100 players parachute in a remote island to gear up, fight each other and prove they’ve got the necessary skills to be the last man standing. Fortnite is free to download in Android devices and offers and a truly cross-platform experience, since it’s available for PlayStation 4, XBox One, PC, MAC and even Nintendo Switch! There are many reasons for Fortnite to have taken the world by storm since it was released in 2017, including amazing graphics created by the well-known technology Unreal Engine, an unprecedent Creative Mode or the constant in-game events that will always make the gaming experience feel like new every day! \n",
      "\n",
      " \n",
      "\n",
      "The gameplay in battle royale is common to all of us: a number of players meet in an island that’s getting smaller as time passes by with the only goal of defeating the rest of the players and being the only survivor. The good thing you’ll notice after you download Fortnite in your Android device is the variety of game modes available. You can play online with random players from other parts of the world, or you can play with friends in one of the several default game modes Fortnite offers: solo, duos and squads. The first one is the well-known “you against the world”. In the duos game mode, teams composed by 2 players will face each other, while in the squads mode things get a bit more complex and teams of up to 4 players will play together at once. \n",
      "\n",
      " \n",
      "\n",
      "Your first goal once landing in a Fortnite game will be gearing up. Initially you’ll only have a harvesting tool, you move around, explore and open the crates you find to obtain different items, including the most amazing weapons, shields and useful items that you’ll find handy to stay alive. \n",
      "\n",
      " \n",
      "\n",
      "Among all the battle royales you can download in Android these days, Fortnite stands out for many reasons, and character customization is one of those. In Fortnite your looks can truly say who you are (and what are you capable of), since you can change your outfits, skins and looks as you wish with an incredibly massive number of options in the Fortnite in-app store. With your unique harvesting tool and a very colorful glider you’ll stand out from the crowd for sure! On top of that, Fortnite also allows you to customize your emotes so your character will celebrate your victories with your favorite dance. \n",
      "\n",
      " \n",
      "\n",
      "Another important reason to download and install Fortnite in your Android device is that we’re talking about a battle royale that allows to get creative... for real! The items you harvest after parachuting in the island can be used to build structures like walls or.... massive buildings. The possibilities are endless with a lot of types of walls, floors, stairs or roofs.  \n",
      "\n",
      " \n",
      "\n",
      "The graphics in Fortnite are full of details and textures, and this is thanks to the best technology in terms of visuals out there: Unreal Engine. You’ll find very realistic textures everywhere, and the moves and animations of characters are extreme real. Although this technology has been initially developed to be used in the gaming world, it’s made its way to super famous sci-fi productions like The Mandalorian! Combined with immersive sounds effects, Fortnite is the realistic experience you were looking for! \n",
      "\n",
      "Fortnite is not only about killing the other characters and staying alive; Epic Games offers a wide variety of events and weekly challenges to level up your characters and unlock a lot of different items, including the latest outfits and accessories! \n",
      "\n",
      " \n",
      "\n",
      "Ready for the ultimate battle royale adventure? If you’re looking for the best graphics out there, a wide variety of game modes and constant events, challenges and updates, download Fortnite now in your Android device and show ‘em who rules in the island! \n",
      "\n"
     ]
    }
   ],
   "source": [
    "regex = re.compile(\"description\")\n",
    "children = soup.find(\"div\", {\"itemprop\": regex}).findChildren()\n",
    "els = [el.get_text() for el in children]\n",
    "print('\\n'.join(els))\n"
   ]
  }
 ],
 "metadata": {
  "kernelspec": {
   "display_name": "dt",
   "language": "python",
   "name": "python3"
  },
  "language_info": {
   "codemirror_mode": {
    "name": "ipython",
    "version": 3
   },
   "file_extension": ".py",
   "mimetype": "text/x-python",
   "name": "python",
   "nbconvert_exporter": "python",
   "pygments_lexer": "ipython3",
   "version": "3.12.2"
  }
 },
 "nbformat": 4,
 "nbformat_minor": 2
}
